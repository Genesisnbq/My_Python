{
 "nbformat": 4,
 "nbformat_minor": 2,
 "metadata": {
  "language_info": {
   "name": "python",
   "codemirror_mode": {
    "name": "ipython",
    "version": 3
   },
   "version": "3.7.6-final"
  },
  "orig_nbformat": 2,
  "file_extension": ".py",
  "mimetype": "text/x-python",
  "name": "python",
  "npconvert_exporter": "python",
  "pygments_lexer": "ipython3",
  "version": 3,
  "kernelspec": {
   "name": "python37664bit6924fd6bbd8344f282a5c1a3944f4d45",
   "display_name": "Python 3.7.6 64-bit"
  }
 },
 "cells": [
  {
   "cell_type": "code",
   "execution_count": 3,
   "metadata": {},
   "outputs": [
    {
     "output_type": "stream",
     "name": "stdout",
     "text": "<re.Match object; span=(0, 10), match='caaaaaaaat'>\n"
    }
   ],
   "source": [
    "import re\n",
    "p = re.compile('ca*t')\n",
    "print(p.match('caaaaaaaat'))\n",
    ""
   ]
  },
  {
   "cell_type": "code",
   "execution_count": 6,
   "metadata": {},
   "outputs": [
    {
     "output_type": "stream",
     "name": "stdout",
     "text": "<re.Match object; span=(0, 8), match='abcccccc'>\n<re.Match object; span=(0, 2), match='ab'>\n<re.Match object; span=(0, 2), match='ab'>\n"
    }
   ],
   "source": [
    "import re\n",
    "# . ^ $ * + ? {} [] | \\d \\D \\s ()\n",
    "# + 表示前面这个字符出现1-n次\n",
    "# ? 表示前面这个字符出现0次或一次 (有更多的作用)\n",
    "# \\d 表示匹配的内容是一个数字  [0-9]+ 和 \\d 的功能是一模一样的\n",
    "# \\D 匹配不包含数字的\n",
    "# [] 表示任意一个字符匹配成功, 都可以匹配成功\n",
    "# () 分组   2020-03-01  (2020)-(03)-(01).group()  使用正则分组来提取\n",
    "# (03|04) 只提取03或者04 如果是. 05等等都会被提取\n",
    "# ^$ 表示这一行是空行\n",
    "# .*? 不使用贪婪模式 abcccccd abc*(贪婪模式)\n",
    "# \\s 空白符\n",
    "\n",
    "p = re.compile('abc*')  # *号匹配的时候, 会尽可能长去匹配\n",
    "print(p.match('abccccccd'))\n",
    "\n",
    "p = re.compile('abc*?')\n",
    "print(p.match('abcccccd'))\n",
    "print(p.match('abd'))\n",
    "\n",
    "# <img /img>"
   ]
  },
  {
   "cell_type": "code",
   "execution_count": 7,
   "metadata": {},
   "outputs": [
    {
     "output_type": "stream",
     "name": "stdout",
     "text": "<re.Match object; span=(4, 7), match='jpg'>\n"
    }
   ],
   "source": [
    "import re\n",
    "p =re.compile('jpg$')\n",
    "print(p.search('abc.jpg'))"
   ]
  },
  {
   "cell_type": "code",
   "execution_count": 25,
   "metadata": {},
   "outputs": [
    {
     "output_type": "stream",
     "name": "stdout",
     "text": "32\n(0, 32)\n"
    }
   ],
   "source": [
    "# .*? 不使用贪婪模式 abcccccd abc*(贪婪模式)\n",
    "import re\n",
    "# 贪婪模式\n",
    "p = re.compile('<.*>')\n",
    "s = '<html><head><title>Title</title>'\n",
    "print(len(s))\n",
    "print(p.match(s).span())   # .span() 方法  (范围的意思)\n"
   ]
  },
  {
   "cell_type": "code",
   "execution_count": 3,
   "metadata": {},
   "outputs": [
    {
     "output_type": "stream",
     "name": "stdout",
     "text": "0    4\n1    5\n2    6\n3   -7\ndtype: int64\nRangeIndex(start=0, stop=4, step=1)\n[ 4  5  6 -7]\n"
    }
   ],
   "source": [
    "# from pandas import Serise,DateFrame\n",
    "import pandas as pd\n",
    "\n",
    "obj = pd.Series([4, 5, 6, -7])\n",
    "\n",
    "print(obj)  # 自动添加索引\n",
    "print(obj.index)\n",
    "print(obj.values)"
   ]
  },
  {
   "cell_type": "code",
   "execution_count": 13,
   "metadata": {},
   "outputs": [
    {
     "output_type": "stream",
     "name": "stdout",
     "text": "a     2\nb     4\nc     5\nd     9\nz   -10\ndtype: int64\na     2\nb     4\nc     6\nd     9\nz   -10\ndtype: int64\nTrue\n"
    }
   ],
   "source": [
    "import pandas as pd \n",
    "\n",
    "obj = pd.Series([2,4,5,9,-10],index = ['a','b','c','d','z'])\n",
    "print(obj)\n",
    "obj['c'] = 6\n",
    "print(obj)\n",
    "\n",
    "print('a' in obj)  # 判断 'a' 是否在索引中"
   ]
  },
  {
   "cell_type": "code",
   "execution_count": 18,
   "metadata": {},
   "outputs": [
    {
     "output_type": "stream",
     "name": "stdout",
     "text": "beijing     123\nshanghai    342\nzhejiang    111\ndtype: int64\na    123\nb    342\nc    111\ndtype: int64\n"
    }
   ],
   "source": [
    "import pandas as pd \n",
    "# 将 字典转化为 Series\n",
    "\n",
    "sdata = {'beijing':123, 'shanghai':342,'zhejiang':111}\n",
    "\n",
    "obj2 = pd.Series(sdata)\n",
    "print(obj2)\n",
    "\n",
    "obj2.index = [\"a\",\"b\",\"c\"]  # 更改索引\n",
    "print(obj2)"
   ]
  },
  {
   "cell_type": "code",
   "execution_count": 27,
   "metadata": {},
   "outputs": [
    {
     "output_type": "stream",
     "name": "stdout",
     "text": "city  year     pop\n0  shanghai     1      23\n1  zhejiang     2  321312\n2   jiaxing     3  312312\n3   sichuan     4  312312\n4     wuhan     5      43\n   year      city     pop\n0     1  shanghai      23\n1     2  zhejiang  321312\n2     3   jiaxing  312312\n3     4   sichuan  312312\n4     5     wuhan      43\n--------------------\n0    shanghai\n1    zhejiang\n2     jiaxing\n3     sichuan\n4       wuhan\nName: city, dtype: object\n--------------------\n0    shanghai\n1    zhejiang\n2     jiaxing\n3     sichuan\n4       wuhan\nName: city, dtype: object\n   year      city     pop   new\n0     1  shanghai      23   123\n1     2  zhejiang  321312  3213\n2     3   jiaxing  312312  4324\n3     4   sichuan  312312   534\n4     5     wuhan      43   111\n"
    }
   ],
   "source": [
    "import pandas as pd  # 多维表格\n",
    "\n",
    "data = {\"city\": ['shanghai', 'zhejiang', 'jiaxing', 'sichuan', 'wuhan'],\n",
    "        'year': [1, 2, 3, 4, 5],\n",
    "        'pop': [23, 321312, 312312, 312312, 43]}\n",
    "\n",
    "frame = pd.DataFrame(data)\n",
    "\n",
    "print(frame)\n",
    "\n",
    "frame2 = pd.DataFrame(data, columns=['year', 'city', 'pop'])  # 按这个顺序排序\n",
    "\n",
    "print(frame2)\n",
    "\n",
    "print('-'*20)\n",
    "print(frame2['city'])\n",
    "print('-'*20)\n",
    "print(frame2.city)\n",
    "\n",
    "frame2['new']= [123,3213,4324,534,111]\n",
    "print(frame2)\n",
    ""
   ]
  },
  {
   "cell_type": "code",
   "execution_count": 29,
   "metadata": {},
   "outputs": [
    {
     "output_type": "stream",
     "name": "stdout",
     "text": "city  year     pop    cap\n0  shanghai     1      23  False\n1  zhejiang     2  321312   True\n2   jiaxing     3  312312  False\n3   sichuan     4  312312  False\n4     wuhan     5      43  False\n"
    }
   ],
   "source": [
    "import pandas as pd  # 多维表格\n",
    "\n",
    "data = {\"city\": ['shanghai', 'zhejiang', 'jiaxing', 'sichuan', 'wuhan'],\n",
    "        'year': [1, 2, 3, 4, 5],\n",
    "        'pop': [23, 321312, 312312, 312312, 43]}\n",
    "\n",
    "frame = pd.DataFrame(data)\n",
    "\n",
    "frame['cap'] = frame.city =='zhejiang'\n",
    "print(frame) "
   ]
  },
  {
   "cell_type": "code",
   "execution_count": 35,
   "metadata": {},
   "outputs": [
    {
     "output_type": "stream",
     "name": "stdout",
     "text": "beijing  shanghai\n2008      1.5       1.1\n2009      2.1       9.9\n          2008  2009\nbeijing    1.5   2.1\nshanghai   1.1   9.9\n"
    }
   ],
   "source": [
    "import pandas as pd  # 多维表格\n",
    "\n",
    "pop = {'beijing':{2008:1.5,2009:2.1},\n",
    "        'shanghai':{2008:1.1,2009:9.9}\n",
    "       }\n",
    "\n",
    "frame = pd.DataFrame(pop)\n",
    "print(frame)\n",
    "\n",
    "# 行列式的转置\n",
    "print(frame.T)"
   ]
  },
  {
   "cell_type": "code",
   "execution_count": 49,
   "metadata": {},
   "outputs": [
    {
     "output_type": "stream",
     "name": "stdout",
     "text": "b    3.2\nc    2.2\na    1.1\nd    5.9\ndtype: float64\n--------------------\na    1.1\nb    3.2\nc    2.2\nd    5.9\ne    0.0\ndtype: float64\n--------------------\n0      blue\n1      blue\n2    purple\n3    purple\n4    yellow\n5    yellow\ndtype: object\n--------------------\n0      blue\n1    purple\n2    purple\n3    yellow\n4    yellow\n5       NaN\ndtype: object\n"
    }
   ],
   "source": [
    "import pandas as pd  # 多维表格\n",
    "\n",
    "pop = {'beijing':{2008:1.5,2009:2.1},\n",
    "        'shanghai':{2008:1.1,2009:9.9}\n",
    "       }\n",
    "\n",
    "frame = pd.DataFrame(pop)\n",
    "\n",
    "obj1 = pd.Series([3.2,2.2,1.1,5.9],index = ['b','c','a','d'])\n",
    "print(obj1)\n",
    "obj2 = obj1.reindex(['a','b','c','d','e'],fill_value=0)\n",
    "print('-'*20)\n",
    "print(obj2)\n",
    "\n",
    "print('-'*20)\n",
    "\n",
    "obj3 = pd.Series(['blue','purple','yellow'],index = [0,2,4])\n",
    "print(obj3.reindex(range(6),method='ffill')) # 使用上面的值进行填充\n",
    "print('-'*20)\n",
    "print(obj3.reindex(range(6),method='bfill')) # 使用下面的值填充\n",
    "\n"
   ]
  },
  {
   "cell_type": "code",
   "execution_count": 50,
   "metadata": {},
   "outputs": [
    {
     "output_type": "stream",
     "name": "stdout",
     "text": "0    1.0\n2    2.0\ndtype: float64\n"
    }
   ],
   "source": [
    "from numpy import nan as NA # 删除缺失值\n",
    "from pandas import Series\n",
    "data = Series([1,NA,2])\n",
    "print(data.dropna())"
   ]
  },
  {
   "cell_type": "code",
   "execution_count": 52,
   "metadata": {},
   "outputs": [
    {
     "output_type": "stream",
     "name": "stdout",
     "text": "0    1    2\n0  1.0  2.0  3.0\n1  1.0  NaN  NaN\n2  NaN  NaN  NaN\n"
    }
   ],
   "source": [
    "from numpy import nan as NA # 删除缺失值\n",
    "from pandas import Series\n",
    "from pandas import DataFrame\n",
    "\n",
    "data = DataFrame([[1,2,3],[1,NA,NA],[NA,NA,NA]])\n",
    "print(data)"
   ]
  }
 ]
}
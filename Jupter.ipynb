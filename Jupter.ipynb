{
 "cells": [
  {
   "cell_type": "code",
   "execution_count": 1,
   "metadata": {},
   "outputs": [
    {
     "name": "stdout",
     "output_type": "stream",
     "text": [
      "<re.Match object; span=(0, 10), match='caaaaaaaat'>\n"
     ]
    }
   ],
   "source": [
    "import re\n",
    "p = re.compile('ca*t')\n",
    "print(p.match('caaaaaaaat'))\n"
   ]
  },
  {
   "cell_type": "code",
   "execution_count": 2,
   "metadata": {},
   "outputs": [
    {
     "name": "stdout",
     "output_type": "stream",
     "text": [
      "<re.Match object; span=(0, 8), match='abcccccc'>\n",
      "<re.Match object; span=(0, 2), match='ab'>\n",
      "<re.Match object; span=(0, 2), match='ab'>\n"
     ]
    }
   ],
   "source": [
    "import re\n",
    "# . ^ $ * + ? {} [] | \\d \\D \\s ()\n",
    "# + 表示前面这个字符出现1-n次\n",
    "# ? 表示前面这个字符出现0次或一次 (有更多的作用)\n",
    "# \\d 表示匹配的内容是一个数字  [0-9]+ 和 \\d 的功能是一模一样的\n",
    "# \\D 匹配不包含数字的\n",
    "# [] 表示任意一个字符匹配成功, 都可以匹配成功\n",
    "# () 分组   2020-03-01  (2020)-(03)-(01).group()  使用正则分组来提取\n",
    "# (03|04) 只提取03或者04 如果是. 05等等都会被提取\n",
    "# ^$ 表示这一行是空行\n",
    "# .*? 不使用贪婪模式 abcccccd abc*(贪婪模式)\n",
    "# \\s 空白符\n",
    "\n",
    "p = re.compile('abc*')  # *号匹配的时候, 会尽可能长去匹配\n",
    "print(p.match('abccccccd'))\n",
    "\n",
    "p = re.compile('abc*?')\n",
    "print(p.match('abcccccd'))\n",
    "print(p.match('abd'))\n",
    "\n",
    "# <img /img>"
   ]
  },
  {
   "cell_type": "code",
   "execution_count": 24,
   "metadata": {},
   "outputs": [
    {
     "name": "stdout",
     "output_type": "stream",
     "text": [
      "<re.Match object; span=(4, 7), match='jpg'>\n"
     ]
    }
   ],
   "source": [
    "import re\n",
    "p =re.compile('jpg$')\n",
    "print(p.search('abc.jpg'))"
   ]
  },
  {
   "cell_type": "code",
   "execution_count": 25,
   "metadata": {},
   "outputs": [
    {
     "name": "stdout",
     "output_type": "stream",
     "text": [
      "32\n",
      "(0, 32)\n"
     ]
    }
   ],
   "source": [
    "# .*? 不使用贪婪模式 abcccccd abc*(贪婪模式)\n",
    "import re\n",
    "# 贪婪模式\n",
    "p = re.compile('<.*>')\n",
    "s = '<html><head><title>Title</title>'\n",
    "print(len(s))\n",
    "print(p.match(s).span())   # .span() 方法  (范围的意思)\n"
   ]
  },
  {
   "cell_type": "code",
   "execution_count": 26,
   "metadata": {},
   "outputs": [
    {
     "name": "stdout",
     "output_type": "stream",
     "text": [
      "0    4\n",
      "1    5\n",
      "2    6\n",
      "3   -7\n",
      "dtype: int64\n",
      "RangeIndex(start=0, stop=4, step=1)\n",
      "[ 4  5  6 -7]\n"
     ]
    }
   ],
   "source": [
    "# from pandas import Serise,DateFrame\n",
    "import pandas as pd\n",
    "\n",
    "obj = pd.Series([4, 5, 6, -7])\n",
    "\n",
    "print(obj)  # 自动添加索引\n",
    "print(obj.index)\n",
    "print(obj.values)"
   ]
  },
  {
   "cell_type": "code",
   "execution_count": 27,
   "metadata": {},
   "outputs": [
    {
     "name": "stdout",
     "output_type": "stream",
     "text": [
      "a     2\n",
      "b     4\n",
      "c     5\n",
      "d     9\n",
      "z   -10\n",
      "dtype: int64\n",
      "a     2\n",
      "b     4\n",
      "c     6\n",
      "d     9\n",
      "z   -10\n",
      "dtype: int64\n",
      "True\n"
     ]
    }
   ],
   "source": [
    "import pandas as pd \n",
    "\n",
    "obj = pd.Series([2,4,5,9,-10],index = ['a','b','c','d','z'])\n",
    "print(obj)\n",
    "obj['c'] = 6\n",
    "print(obj)\n",
    "\n",
    "print('a' in obj)  # 判断 'a' 是否在索引中"
   ]
  },
  {
   "cell_type": "code",
   "execution_count": 28,
   "metadata": {},
   "outputs": [
    {
     "name": "stdout",
     "output_type": "stream",
     "text": [
      "beijing     123\n",
      "shanghai    342\n",
      "zhejiang    111\n",
      "dtype: int64\n",
      "a    123\n",
      "b    342\n",
      "c    111\n",
      "dtype: int64\n"
     ]
    }
   ],
   "source": [
    "import pandas as pd \n",
    "# 将 字典转化为 Series\n",
    "\n",
    "sdata = {'beijing':123, 'shanghai':342,'zhejiang':111}\n",
    "\n",
    "obj2 = pd.Series(sdata)\n",
    "print(obj2)\n",
    "\n",
    "obj2.index = [\"a\",\"b\",\"c\"]  # 更改索引\n",
    "print(obj2)"
   ]
  },
  {
   "cell_type": "code",
   "execution_count": 29,
   "metadata": {},
   "outputs": [
    {
     "name": "stdout",
     "output_type": "stream",
     "text": [
      "       city  year     pop\n",
      "0  shanghai     1      23\n",
      "1  zhejiang     2  321312\n",
      "2   jiaxing     3  312312\n",
      "3   sichuan     4  312312\n",
      "4     wuhan     5      43\n",
      "   year      city     pop\n",
      "0     1  shanghai      23\n",
      "1     2  zhejiang  321312\n",
      "2     3   jiaxing  312312\n",
      "3     4   sichuan  312312\n",
      "4     5     wuhan      43\n",
      "--------------------\n",
      "0    shanghai\n",
      "1    zhejiang\n",
      "2     jiaxing\n",
      "3     sichuan\n",
      "4       wuhan\n",
      "Name: city, dtype: object\n",
      "--------------------\n",
      "0    shanghai\n",
      "1    zhejiang\n",
      "2     jiaxing\n",
      "3     sichuan\n",
      "4       wuhan\n",
      "Name: city, dtype: object\n",
      "   year      city     pop   new\n",
      "0     1  shanghai      23   123\n",
      "1     2  zhejiang  321312  3213\n",
      "2     3   jiaxing  312312  4324\n",
      "3     4   sichuan  312312   534\n",
      "4     5     wuhan      43   111\n"
     ]
    }
   ],
   "source": [
    "import pandas as pd  # 多维表格\n",
    "\n",
    "data = {\"city\": ['shanghai', 'zhejiang', 'jiaxing', 'sichuan', 'wuhan'],\n",
    "        'year': [1, 2, 3, 4, 5],\n",
    "        'pop': [23, 321312, 312312, 312312, 43]}\n",
    "\n",
    "frame = pd.DataFrame(data)\n",
    "\n",
    "print(frame)\n",
    "\n",
    "frame2 = pd.DataFrame(data, columns=['year', 'city', 'pop'])  # 按这个顺序排序\n",
    "\n",
    "print(frame2)\n",
    "\n",
    "print('-'*20)\n",
    "print(frame2['city'])\n",
    "print('-'*20)\n",
    "print(frame2.city)\n",
    "\n",
    "frame2['new']= [123,3213,4324,534,111]\n",
    "print(frame2)\n"
   ]
  },
  {
   "cell_type": "code",
   "execution_count": 30,
   "metadata": {},
   "outputs": [
    {
     "name": "stdout",
     "output_type": "stream",
     "text": [
      "       city  year     pop    cap\n",
      "0  shanghai     1      23  False\n",
      "1  zhejiang     2  321312   True\n",
      "2   jiaxing     3  312312  False\n",
      "3   sichuan     4  312312  False\n",
      "4     wuhan     5      43  False\n"
     ]
    }
   ],
   "source": [
    "import pandas as pd  # 多维表格\n",
    "\n",
    "data = {\"city\": ['shanghai', 'zhejiang', 'jiaxing', 'sichuan', 'wuhan'],\n",
    "        'year': [1, 2, 3, 4, 5],\n",
    "        'pop': [23, 321312, 312312, 312312, 43]}\n",
    "\n",
    "frame = pd.DataFrame(data)\n",
    "\n",
    "frame['cap'] = frame.city =='zhejiang'\n",
    "print(frame) "
   ]
  },
  {
   "cell_type": "code",
   "execution_count": 3,
   "metadata": {},
   "outputs": [
    {
     "name": "stdout",
     "output_type": "stream",
     "text": [
      "      beijing  shanghai\n",
      "2008      1.5       1.1\n",
      "2009      2.1       9.9\n",
      "          2008  2009\n",
      "beijing    1.5   2.1\n",
      "shanghai   1.1   9.9\n"
     ]
    }
   ],
   "source": [
    "import pandas as pd  # 多维表格\n",
    "\n",
    "pop = {'beijing':{2008:1.5,2009:2.1},\n",
    "        'shanghai':{2008:1.1,2009:9.9}\n",
    "       }\n",
    "\n",
    "frame = pd.DataFrame(pop)\n",
    "print(frame)\n",
    "\n",
    "# 行列式的转置\n",
    "print(frame.T)"
   ]
  },
  {
   "cell_type": "code",
   "execution_count": 32,
   "metadata": {},
   "outputs": [
    {
     "name": "stdout",
     "output_type": "stream",
     "text": [
      "b    3.2\n",
      "c    2.2\n",
      "a    1.1\n",
      "d    5.9\n",
      "dtype: float64\n",
      "--------------------\n",
      "a    1.1\n",
      "b    3.2\n",
      "c    2.2\n",
      "d    5.9\n",
      "e    0.0\n",
      "dtype: float64\n",
      "--------------------\n",
      "0      blue\n",
      "1      blue\n",
      "2    purple\n",
      "3    purple\n",
      "4    yellow\n",
      "5    yellow\n",
      "dtype: object\n",
      "--------------------\n",
      "0      blue\n",
      "1    purple\n",
      "2    purple\n",
      "3    yellow\n",
      "4    yellow\n",
      "5       NaN\n",
      "dtype: object\n"
     ]
    }
   ],
   "source": [
    "import pandas as pd  # 多维表格\n",
    "\n",
    "pop = {'beijing':{2008:1.5,2009:2.1},\n",
    "        'shanghai':{2008:1.1,2009:9.9}\n",
    "       }\n",
    "\n",
    "frame = pd.DataFrame(pop)\n",
    "\n",
    "obj1 = pd.Series([3.2,2.2,1.1,5.9],index = ['b','c','a','d'])\n",
    "print(obj1)\n",
    "obj2 = obj1.reindex(['a','b','c','d','e'],fill_value=0)\n",
    "print('-'*20)\n",
    "print(obj2)\n",
    "\n",
    "print('-'*20)\n",
    "\n",
    "obj3 = pd.Series(['blue','purple','yellow'],index = [0,2,4])\n",
    "print(obj3.reindex(range(6),method='ffill')) # 使用上面的值进行填充\n",
    "print('-'*20)\n",
    "print(obj3.reindex(range(6),method='bfill')) # 使用下面的值填充\n",
    "\n"
   ]
  },
  {
   "cell_type": "code",
   "execution_count": 33,
   "metadata": {},
   "outputs": [
    {
     "name": "stdout",
     "output_type": "stream",
     "text": [
      "0    1.0\n",
      "2    2.0\n",
      "dtype: float64\n"
     ]
    }
   ],
   "source": [
    "from numpy import nan as NA # 删除缺失值\n",
    "from pandas import Series\n",
    "data = Series([1,NA,2])\n",
    "print(data.dropna())"
   ]
  },
  {
   "cell_type": "code",
   "execution_count": 34,
   "metadata": {},
   "outputs": [
    {
     "name": "stdout",
     "output_type": "stream",
     "text": [
      "     0    1    2\n",
      "0  1.0  2.0  3.0\n",
      "1  1.0  NaN  NaN\n",
      "2  NaN  NaN  NaN\n"
     ]
    }
   ],
   "source": [
    "from numpy import nan as NA # 删除缺失值\n",
    "from pandas import Series\n",
    "from pandas import DataFrame\n",
    "\n",
    "data = DataFrame([[1,2,3],[1,NA,NA],[NA,NA,NA]])\n",
    "print(data)"
   ]
  },
  {
   "cell_type": "code",
   "execution_count": 4,
   "metadata": {},
   "outputs": [
    {
     "data": {
      "text/plain": "<Figure size 432x288 with 1 Axes>",
      "image/png": "[encoded data removed]"
     },
     "metadata": {
      "needs_background": "light"
     },
     "output_type": "display_data"
    },
    {
     "data": {
      "text/plain": "<Figure size 432x288 with 1 Axes>",
      "image/png": "[encoded data removed]"
     },
     "metadata": {
      "needs_background": "light"
     },
     "output_type": "display_data"
    },
    {
     "data": {
      "text/plain": "<Figure size 432x288 with 1 Axes>",
      "image/png": "[encoded data removed]"
     },
     "metadata": {
      "needs_background": "light"
     },
     "output_type": "display_data"
    },
    {
     "data": {
      "text/plain": "<Figure size 300x200 with 1 Axes>",
      "image/png": "[encoded data removed]"
     },
     "metadata": {
      "needs_background": "light"
     },
     "output_type": "display_data"
    },
    {
     "ename": "AttributeError",
     "evalue": "module 'numpy' has no attribute 'arrange'",
     "output_type": "error",
     "traceback": [
      "\u001B[1;31m---------------------------------------------------------------------------\u001B[0m",
      "\u001B[1;31mAttributeError\u001B[0m                            Traceback (most recent call last)",
      "\u001B[1;32m<ipython-input-4-a79958505515>\u001B[0m in \u001B[0;36m<module>\u001B[1;34m\u001B[0m\n\u001B[0;32m     29\u001B[0m \u001B[1;33m\u001B[0m\u001B[0m\n\u001B[0;32m     30\u001B[0m \u001B[1;33m\u001B[0m\u001B[0m\n\u001B[1;32m---> 31\u001B[1;33m \u001B[0mx\u001B[0m \u001B[1;33m=\u001B[0m \u001B[0mnp\u001B[0m\u001B[1;33m.\u001B[0m\u001B[0marrange\u001B[0m\u001B[1;33m(\u001B[0m\u001B[1;36m1\u001B[0m\u001B[1;33m,\u001B[0m \u001B[1;36m10\u001B[0m\u001B[1;33m)\u001B[0m\u001B[1;33m\u001B[0m\u001B[1;33m\u001B[0m\u001B[0m\n\u001B[0m\u001B[0;32m     32\u001B[0m \u001B[0my\u001B[0m \u001B[1;33m=\u001B[0m \u001B[0mx\u001B[0m\u001B[1;33m\u001B[0m\u001B[1;33m\u001B[0m\u001B[0m\n\u001B[0;32m     33\u001B[0m \u001B[0mfig\u001B[0m \u001B[1;33m=\u001B[0m \u001B[0mplt\u001B[0m\u001B[1;33m.\u001B[0m\u001B[0mfigure\u001B[0m\u001B[1;33m(\u001B[0m\u001B[1;33m)\u001B[0m\u001B[1;33m\u001B[0m\u001B[1;33m\u001B[0m\u001B[0m\n",
      "\u001B[1;32m~\\AppData\\Roaming\\Python\\Python37\\site-packages\\numpy\\__init__.py\u001B[0m in \u001B[0;36m__getattr__\u001B[1;34m(attr)\u001B[0m\n\u001B[0;32m    218\u001B[0m             \u001B[1;32melse\u001B[0m\u001B[1;33m:\u001B[0m\u001B[1;33m\u001B[0m\u001B[1;33m\u001B[0m\u001B[0m\n\u001B[0;32m    219\u001B[0m                 raise AttributeError(\"module {!r} has no attribute \"\n\u001B[1;32m--> 220\u001B[1;33m                                      \"{!r}\".format(__name__, attr))\n\u001B[0m\u001B[0;32m    221\u001B[0m \u001B[1;33m\u001B[0m\u001B[0m\n\u001B[0;32m    222\u001B[0m         \u001B[1;32mdef\u001B[0m \u001B[0m__dir__\u001B[0m\u001B[1;33m(\u001B[0m\u001B[1;33m)\u001B[0m\u001B[1;33m:\u001B[0m\u001B[1;33m\u001B[0m\u001B[1;33m\u001B[0m\u001B[0m\n",
      "\u001B[1;31mAttributeError\u001B[0m: module 'numpy' has no attribute 'arrange'"
     ]
    }
   ],
   "source": [
    "import matplotlib.pyplot as plt\n",
    "import numpy as np\n",
    "import pandas as pd\n",
    "import seaborn as sns\n",
    "import warnings\n",
    "warnings.filterwarnings('ignore') # 忽略警告\n",
    "\n",
    "# 使用pyplot这个模块\n",
    "\n",
    "plt.plot([1, 3, 5], [4, 8, 10])\n",
    "plt.show()\n",
    "\n",
    "x = np.linspace(-np.pi, np.pi, 100)  # x的定义域为 -3.14-3.14 中间间隔100个元素\n",
    "plt.plot(x, np.sin(x))\n",
    "\n",
    "plt.show()\n",
    "\n",
    "# 绘制多条曲线\n",
    "x = np.linspace(-np.pi*2, np.pi*2, 100)\n",
    "for i in range(1, 5):\n",
    "    plt.plot(x, np.sin(x/i))\n",
    "plt.show()\n",
    "\n",
    "plt.figure(1, dpi=50)  # 创建图表1, dpi代表图片精细度 dpi越大, 文件越大, 杂志要300以上\n",
    "\n",
    "data = [1, 1, 1, 2, 2, 2, 3, 3, 4, 5, 5, 6, 4, 4, 4, 4]  # 根据数字的数量来创建直方图\n",
    "plt.hist(data)\n",
    "plt.show()\n",
    "\n",
    "\n",
    "x = np.arrange(1, 10)\n",
    "y = x\n",
    "fig = plt.figure()\n",
    "# c='r' 表示散点的颜色为红色, marker表示指定散点形状为圆形\n",
    "plt.scatter(x, y, c='yellow', marker='o')\n",
    "plt.show()\n",
    "\n",
    "iris = pd.read_csv(\"iris_training.csv\")\n",
    "print(iris.head())\n",
    "\n",
    "# 绘制散点图\n",
    "iris.plot(kind=\"scatter\",x=\"120\",y=\"4\")\n",
    "\n",
    "plt.show()\n",
    "\n",
    "iris = pd.read_csv(\"./iris_training.csv\")\n",
    "# 设置样式\n",
    "sns.set(style='white',color_codes=True)\n",
    "# 设置绘制格式为散点图\n",
    "sns.jointplot(x='120',y='4',data=iris,size = 5)\n",
    "\n",
    "# distplot绘制曲线\n",
    "sns.distplot(iris['120'])\n",
    "\n",
    "plt.show()"
   ]
  }
 ],
 "metadata": {
  "file_extension": ".py",
  "kernelspec": {
   "display_name": "Python 3.7.6 64-bit",
   "language": "python",
   "name": "python37664bit6924fd6bbd8344f282a5c1a3944f4d45"
  },
  "language_info": {
   "codemirror_mode": {
    "name": "ipython",
    "version": 3
   },
   "file_extension": ".py",
   "mimetype": "text/x-python",
   "name": "python",
   "nbconvert_exporter": "python",
   "pygments_lexer": "ipython3",
   "version": "3.7.6"
  },
  "mimetype": "text/x-python",
  "name": "python",
  "npconvert_exporter": "python",
  "pygments_lexer": "ipython3",
  "version": 3
 },
 "nbformat": 4,
 "nbformat_minor": 2
}
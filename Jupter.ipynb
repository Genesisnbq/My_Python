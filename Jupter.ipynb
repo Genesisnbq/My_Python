{
 "nbformat": 4,
 "nbformat_minor": 2,
 "metadata": {
  "language_info": {
   "name": "python",
   "codemirror_mode": {
    "name": "ipython",
    "version": 3
   },
   "version": "3.7.6-final"
  },
  "orig_nbformat": 2,
  "file_extension": ".py",
  "mimetype": "text/x-python",
  "name": "python",
  "npconvert_exporter": "python",
  "pygments_lexer": "ipython3",
  "version": 3,
  "kernelspec": {
   "name": "python37664bit6924fd6bbd8344f282a5c1a3944f4d45",
   "display_name": "Python 3.7.6 64-bit"
  }
 },
 "cells": [
  {
   "cell_type": "code",
   "execution_count": 3,
   "metadata": {},
   "outputs": [
    {
     "output_type": "stream",
     "name": "stdout",
     "text": "<re.Match object; span=(0, 10), match='caaaaaaaat'>\n"
    }
   ],
   "source": [
    "import re\n",
    "p = re.compile('ca*t')\n",
    "print(p.match('caaaaaaaat'))\n",
    ""
   ]
  },
  {
   "cell_type": "code",
   "execution_count": 6,
   "metadata": {},
   "outputs": [
    {
     "output_type": "stream",
     "name": "stdout",
     "text": "<re.Match object; span=(0, 8), match='abcccccc'>\n<re.Match object; span=(0, 2), match='ab'>\n<re.Match object; span=(0, 2), match='ab'>\n"
    }
   ],
   "source": [
    "import re\n",
    "# . ^ $ * + ? {} [] | \\d \\D \\s ()\n",
    "# + 表示前面这个字符出现1-n次\n",
    "# ? 表示前面这个字符出现0次或一次 (有更多的作用)\n",
    "# \\d 表示匹配的内容是一个数字  [0-9]+ 和 \\d 的功能是一模一样的\n",
    "# \\D 匹配不包含数字的\n",
    "# [] 表示任意一个字符匹配成功, 都可以匹配成功\n",
    "# () 分组   2020-03-01  (2020)-(03)-(01).group()  使用正则分组来提取\n",
    "# (03|04) 只提取03或者04 如果是. 05等等都会被提取\n",
    "# ^$ 表示这一行是空行\n",
    "# .*? 不使用贪婪模式 abcccccd abc*(贪婪模式)\n",
    "# \\s 空白符\n",
    "\n",
    "p = re.compile('abc*')  # *号匹配的时候, 会尽可能长去匹配\n",
    "print(p.match('abccccccd'))\n",
    "\n",
    "p = re.compile('abc*?')\n",
    "print(p.match('abcccccd'))\n",
    "print(p.match('abd'))\n",
    "\n",
    "# <img /img>"
   ]
  },
  {
   "cell_type": "code",
   "execution_count": 7,
   "metadata": {},
   "outputs": [
    {
     "output_type": "stream",
     "name": "stdout",
     "text": "<re.Match object; span=(4, 7), match='jpg'>\n"
    }
   ],
   "source": [
    "import re\n",
    "p =re.compile('jpg$')\n",
    "print(p.search('abc.jpg'))"
   ]
  },
  {
   "cell_type": "code",
   "execution_count": 25,
   "metadata": {},
   "outputs": [
    {
     "output_type": "stream",
     "name": "stdout",
     "text": "32\n(0, 32)\n"
    }
   ],
   "source": [
    "# .*? 不使用贪婪模式 abcccccd abc*(贪婪模式)\n",
    "import re\n",
    "# 贪婪模式\n",
    "p = re.compile('<.*>')\n",
    "s = '<html><head><title>Title</title>'\n",
    "print(len(s))\n",
    "print(p.match(s).span())   # .span() 方法  (范围的意思)\n"
   ]
  }
 ]
}